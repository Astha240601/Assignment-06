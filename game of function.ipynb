{
 "cells": [
  {
   "cell_type": "code",
   "execution_count": 2,
   "id": "4b31f6aa",
   "metadata": {},
   "outputs": [
    {
     "name": "stdout",
     "output_type": "stream",
     "text": [
      "8+2+3+0+7= 20\n"
     ]
    }
   ],
   "source": [
    "list1=(8,2,3,0,7)\n",
    "def sum(list,size):\n",
    "    if (size==0):\n",
    "        return 0\n",
    "    else:\n",
    "        return list[size-1]+sum(list,size-1)\n",
    "total=sum(list1, len(list1))\n",
    "print(\"8+2+3+0+7=\",total)"
   ]
  },
  {
   "cell_type": "code",
   "execution_count": null,
   "id": "a98e3b0d",
   "metadata": {},
   "outputs": [],
   "source": []
  }
 ],
 "metadata": {
  "kernelspec": {
   "display_name": "Python 3 (ipykernel)",
   "language": "python",
   "name": "python3"
  },
  "language_info": {
   "codemirror_mode": {
    "name": "ipython",
    "version": 3
   },
   "file_extension": ".py",
   "mimetype": "text/x-python",
   "name": "python",
   "nbconvert_exporter": "python",
   "pygments_lexer": "ipython3",
   "version": "3.9.12"
  }
 },
 "nbformat": 4,
 "nbformat_minor": 5
}
